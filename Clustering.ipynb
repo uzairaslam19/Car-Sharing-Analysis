{
 "cells": [
  {
   "cell_type": "markdown",
   "metadata": {},
   "source": [
    "# Customer Segmentation for car sharing\n",
    "<table><tr><td><img src=\"Images/segment.png\"></td></tr></table>"
   ]
  },
  {
   "cell_type": "markdown",
   "metadata": {},
   "source": [
    "## TASK DESCRIPTION\t\t\t\t\t\t\t\n",
    "1. Based on this data, please create a k-cluster model to analyse the relationship between paid spend / hour and total number of bookings completed. \t\t\t\t\t\t\t\n",
    "2. How would the above analysis impact your pricing / promo strategy for a) new users b) existing users c) churned users\t\t\t\t\t\t\t\n",
    "*(you will have to cleanse the data yourself and remove outliers)\t\t\t\t\t\t\t"
   ]
  },
  {
   "cell_type": "code",
   "execution_count": null,
   "metadata": {},
   "outputs": [],
   "source": [
    "#!pip install pandas-profiling"
   ]
  },
  {
   "cell_type": "code",
   "execution_count": null,
   "metadata": {},
   "outputs": [],
   "source": [
    "#Importing Libraries\n",
    "import pandas as pd\n",
    "import numpy as np\n",
    "import seaborn as sns\n",
    "import matplotlib.pyplot as plt\n",
    "from IPython.display import display\n",
    "import pandas_profiling\n",
    "from sklearn.cluster import KMeans\n",
    "from sklearn import preprocessing"
   ]
  },
  {
   "cell_type": "code",
   "execution_count": null,
   "metadata": {},
   "outputs": [],
   "source": [
    "#Loading the dataset in a Pandas DataFrame\n",
    "Df= pd.read_csv(\"ClusteringData.csv\")"
   ]
  },
  {
   "cell_type": "code",
   "execution_count": null,
   "metadata": {},
   "outputs": [],
   "source": [
    "display(Df.head())"
   ]
  },
  {
   "cell_type": "markdown",
   "metadata": {},
   "source": [
    "There seem to be some missing values in the Data, i will need to further explore it to see the clear picture"
   ]
  },
  {
   "cell_type": "code",
   "execution_count": null,
   "metadata": {},
   "outputs": [],
   "source": [
    "display(Df.tail())"
   ]
  },
  {
   "cell_type": "code",
   "execution_count": null,
   "metadata": {},
   "outputs": [],
   "source": [
    "Df.shape"
   ]
  },
  {
   "cell_type": "code",
   "execution_count": null,
   "metadata": {},
   "outputs": [],
   "source": [
    "Df.info()"
   ]
  },
  {
   "cell_type": "code",
   "execution_count": null,
   "metadata": {},
   "outputs": [],
   "source": [
    "Df.describe()"
   ]
  },
  {
   "cell_type": "markdown",
   "metadata": {},
   "source": [
    "#### Utilizing the pandas Profiling Package for a complete report on the Data"
   ]
  },
  {
   "cell_type": "code",
   "execution_count": null,
   "metadata": {},
   "outputs": [],
   "source": [
    "Df.profile_report()"
   ]
  },
  {
   "cell_type": "markdown",
   "metadata": {},
   "source": [
    "- **Create Promo used Column**\n",
    "- **Handle missing values**\n",
    "- **Handle outliers**\n",
    "- **Cluster Analysis**"
   ]
  },
  {
   "cell_type": "markdown",
   "metadata": {},
   "source": [
    "### Key TakeAways from the Pandas Profiling of the Data"
   ]
  },
  {
   "cell_type": "markdown",
   "metadata": {},
   "source": [
    "From the Pandas Profiling Report we can see that two of the variables have missing values, \"PromoSpend\" and \"PaidSpend\". These will need to be handled before we move ahead. Promo spend has 4492 missing values which means that these customers did not use any kind of Promo and only booked by paying full amount. For these values we can impute using 0 as that would specify the amount they spent using promo was 0. But before that i would like to create a new categorical feature which would show if a customer used promo or not (but this feature will not be used for our K means Clustering as it might create some issues). Similar for Missing values in Paidspend, which has missing values only when the customer has used promo entirely. so we can impute using 0 here aswell.. Any values that imply 0 in the Paid spend/hour means either that the person used promo only to book his rides, or that the person has not driven his rides for an entire hour, which is why hours booked is 0 in these cases, that means that the person has booked only for short periods of times\n"
   ]
  },
  {
   "cell_type": "markdown",
   "metadata": {},
   "source": [
    "- **Missing values** Two of the variables seem to have missing values in them, these are PaidSpend and Promospend\n",
    "- **Outliers** Two variables namely paidspend and Paidspend/hour have outliers approximately 5 in number for the same booking id where apparently the customer spend 12000Rm with only one booking and paidspend/ hour is either 861 or 370. These 5 outliers may mean scenerios where the customer was given a monetary penalty. But keeping them in the dataset will be a problem. I'm going to Drop these 5 observations"
   ]
  },
  {
   "cell_type": "code",
   "execution_count": null,
   "metadata": {},
   "outputs": [],
   "source": [
    "#Lets See what we mean by outliers in the above discussion\n",
    "fig, ax = plt.subplots(figsize=(16,8))\n",
    "sns.boxplot(x=Df['paidspend/hour'],ax=ax)"
   ]
  },
  {
   "cell_type": "code",
   "execution_count": null,
   "metadata": {},
   "outputs": [],
   "source": [
    "fig, ax = plt.subplots(figsize=(16,8))\n",
    "sns.boxplot(x=Df['paidspend'],ax=ax)"
   ]
  },
  {
   "cell_type": "markdown",
   "metadata": {},
   "source": [
    "Even though paidspend has a ton of other extreme values aswell, i will keep all these as they seem logical. Only dropping the extreme values in paidspend/hour as they seem like outliers"
   ]
  },
  {
   "cell_type": "markdown",
   "metadata": {},
   "source": [
    "**Plotting a scatter plot for a more clear picture with regards to bookings**"
   ]
  },
  {
   "cell_type": "code",
   "execution_count": null,
   "metadata": {},
   "outputs": [],
   "source": [
    "fig, ax = plt.subplots(figsize=(16,8))\n",
    "ax.scatter(Df['paidspend/hour'], Df['bookings'])\n",
    "plt.show()"
   ]
  },
  {
   "cell_type": "code",
   "execution_count": null,
   "metadata": {},
   "outputs": [],
   "source": [
    "fig, ax = plt.subplots(figsize=(16,8))\n",
    "ax.scatter(Df['paidspend'], Df['bookings'])\n",
    "plt.show()"
   ]
  },
  {
   "cell_type": "markdown",
   "metadata": {},
   "source": [
    "### Dropping Outliers in PaidSpend/Hour"
   ]
  },
  {
   "cell_type": "code",
   "execution_count": null,
   "metadata": {},
   "outputs": [],
   "source": [
    "#Handling Outliers\n",
    "list_of_values = [867.84,  341.32, 290.03, 243.02, 213.06]\n",
    "Df.drop(Df.loc[Df['paidspend/hour'].isin(list_of_values)].index, inplace=True)"
   ]
  },
  {
   "cell_type": "code",
   "execution_count": null,
   "metadata": {},
   "outputs": [],
   "source": [
    "fig, ax = plt.subplots(figsize=(16,8))\n",
    "sns.boxplot(x=Df['paidspend/hour'],ax=ax)"
   ]
  },
  {
   "cell_type": "markdown",
   "metadata": {},
   "source": [
    "**We can see that the extreme single value of 800+ is not there anymore. The values till 220 cannot be considered outliers as they are for people with bookings more than one**"
   ]
  },
  {
   "cell_type": "markdown",
   "metadata": {},
   "source": [
    "### Feature Engineering\n",
    "The Missing values in Paidspend and PromoSpend indicate that the customer either only used promos or did not use any promos. So dropping these missing values is not as option. Instead i will impute them with zeros and create a new categorical variable for whether the customer used a promo or not or whether he/she only used promo"
   ]
  },
  {
   "cell_type": "code",
   "execution_count": null,
   "metadata": {},
   "outputs": [],
   "source": [
    "#Feature Engineering\n",
    "# Creating a variable for those Customers who used a promo or not\n",
    "Df['UsedPromo'] = np.where(Df['promospend'].isna(), 'NO','YES')\n",
    "Df['UsedPromo'] = np.where(Df['paidspend'].isna(), 'OnlyPromo',Df['UsedPromo'])\n",
    "Df['UsedPromo']= Df['UsedPromo'].astype('category')\n",
    "#This will Create a new variable Used Promo which indicates whether a person has only used promo, or used it with paying some money or havent used atall"
   ]
  },
  {
   "cell_type": "code",
   "execution_count": null,
   "metadata": {},
   "outputs": [],
   "source": [
    "fig, ax = plt.subplots(figsize=(16,8))\n",
    "Df.UsedPromo.value_counts().plot.bar(ax=ax)"
   ]
  },
  {
   "cell_type": "markdown",
   "metadata": {},
   "source": [
    "**We can see that there are a few people in a couple of hundred customer who only took rides for promos and did not spend any money**"
   ]
  },
  {
   "cell_type": "code",
   "execution_count": null,
   "metadata": {},
   "outputs": [],
   "source": [
    "from scipy import stats\n",
    "fig, ax = plt.subplots(figsize=(16,8))\n",
    "sns.distplot(Df['hoursbooked'], kde=False, fit=stats.norm,ax=ax)"
   ]
  },
  {
   "cell_type": "code",
   "execution_count": null,
   "metadata": {},
   "outputs": [],
   "source": [
    "fig, ax = plt.subplots(figsize=(16,8))\n",
    "sns.boxplot(x=Df['bookings'],ax=ax)"
   ]
  },
  {
   "cell_type": "markdown",
   "metadata": {},
   "source": [
    "**The bookings feature also has some extreme values but these seem logical, it may indicate those customer that use SOCAR services regularly**"
   ]
  },
  {
   "cell_type": "code",
   "execution_count": null,
   "metadata": {},
   "outputs": [],
   "source": [
    "Df.dtypes"
   ]
  },
  {
   "cell_type": "markdown",
   "metadata": {},
   "source": [
    "**Encoding the Used Promo Feature to numeric using label encoding**"
   ]
  },
  {
   "cell_type": "code",
   "execution_count": null,
   "metadata": {},
   "outputs": [],
   "source": [
    "Df['UsedPromo']=Df['UsedPromo'].cat.codes"
   ]
  },
  {
   "cell_type": "code",
   "execution_count": null,
   "metadata": {},
   "outputs": [],
   "source": [
    "Df.UsedPromo.value_counts()"
   ]
  },
  {
   "cell_type": "code",
   "execution_count": null,
   "metadata": {},
   "outputs": [],
   "source": [
    "Df['promospend']=Df['promospend'].fillna(0)\n",
    "Df['paidspend']=Df['paidspend'].fillna(0)\n",
    "Df['paidspend/hour']=Df['paidspend/hour'].fillna(0)\n",
    "Df.promospend.isna().sum()"
   ]
  },
  {
   "cell_type": "markdown",
   "metadata": {},
   "source": [
    "**Plotting all variables against eachother using Seaborn PairPlot and the Color grouped by UsedPromo**"
   ]
  },
  {
   "cell_type": "code",
   "execution_count": null,
   "metadata": {},
   "outputs": [],
   "source": [
    "sns.pairplot(Df,hue='UsedPromo')"
   ]
  },
  {
   "cell_type": "code",
   "execution_count": null,
   "metadata": {},
   "outputs": [],
   "source": [
    "Df.head()"
   ]
  },
  {
   "cell_type": "markdown",
   "metadata": {},
   "source": [
    "#### Selecting Features for the clustering Algorithm\n",
    "- **Since the Task requires us to cluster based on the bookings and paidspend/hour we will use these two features**"
   ]
  },
  {
   "cell_type": "code",
   "execution_count": null,
   "metadata": {},
   "outputs": [],
   "source": [
    "#Selecting the features for clustering\n",
    "X=Df[['bookings','paidspend/hour']]"
   ]
  },
  {
   "cell_type": "code",
   "execution_count": null,
   "metadata": {},
   "outputs": [],
   "source": [
    "X.head()"
   ]
  },
  {
   "cell_type": "markdown",
   "metadata": {},
   "source": [
    "## Task 1 Clustering the Data to see the relation between Bookings and Paidspend/hour\n",
    "#### Using K Means Clustering \n",
    "To select the Value of K, i will use the Elbow method to determine the appropriate value of K"
   ]
  },
  {
   "cell_type": "code",
   "execution_count": null,
   "metadata": {},
   "outputs": [],
   "source": [
    "# MC\n",
    "# elbow method plot\n",
    "\n",
    "distortions = []\n",
    "k_values = range(1,11)\n",
    "fig, ax = plt.subplots(figsize=(16,8))\n",
    "for i in k_values:\n",
    "    model = KMeans(n_clusters=i)\n",
    "    model.fit(X)\n",
    "    distortions.append(model.inertia_)\n",
    "    \n",
    "plt.plot(k_values, distortions, marker='o');"
   ]
  },
  {
   "cell_type": "markdown",
   "metadata": {},
   "source": [
    "- **The Elbow method shows that there are 4 Relevant Clusters for this data**"
   ]
  },
  {
   "cell_type": "markdown",
   "metadata": {},
   "source": [
    "Creating Clusters and a mapping them to a new feature in Dataframe"
   ]
  },
  {
   "cell_type": "code",
   "execution_count": null,
   "metadata": {},
   "outputs": [],
   "source": [
    "#Creating Clusters as per the Elbow method\n",
    "kmeans = KMeans(n_clusters=4)\n",
    "Df['Cluster']=kmeans.fit_predict(X)"
   ]
  },
  {
   "cell_type": "code",
   "execution_count": null,
   "metadata": {},
   "outputs": [],
   "source": [
    "Df.head()"
   ]
  },
  {
   "cell_type": "markdown",
   "metadata": {},
   "source": [
    "- **Since there are 4 clusters, we need to plot them using a 2 dimensional space, for this i will use Priniciple component analysis which is used for plotting in 2 dimensional space**"
   ]
  },
  {
   "cell_type": "code",
   "execution_count": null,
   "metadata": {},
   "outputs": [],
   "source": [
    "#Importing the Relevant Package from Sklearn\n",
    "from sklearn.decomposition import PCA"
   ]
  },
  {
   "cell_type": "code",
   "execution_count": null,
   "metadata": {},
   "outputs": [],
   "source": [
    "# Visualizing the Clusters using Principle Component Analysis\n",
    "pca=PCA(n_components=2,whiten=True)\n",
    "fig, ax = plt.subplots(figsize=(16,8))\n",
    "pca.fit(X)\n",
    "Df['x']=pca.fit_transform(X)[:, 0]\n",
    "Df['y']=pca.fit_transform(X)[:, 1]\n",
    "plt.scatter(Df['x'],Df['y'],c=Df['Cluster'],s=60)\n",
    "plt.show()"
   ]
  },
  {
   "cell_type": "markdown",
   "metadata": {},
   "source": [
    "- **Based on the K means Clustering we can see that the customers can be segmented into 4 Different Segments. Each cluster shown in different colors, White, light Gray, Dark Gray, and black**\n",
    "\n",
    "- **To see how these clusters are formed we will use them to group the data together to see them on basis of customer behvaior in regards to booking and paidspend/hour**"
   ]
  },
  {
   "cell_type": "code",
   "execution_count": null,
   "metadata": {},
   "outputs": [],
   "source": [
    "Df['Cluster'].value_counts().plot(kind='bar')"
   ]
  },
  {
   "cell_type": "code",
   "execution_count": null,
   "metadata": {},
   "outputs": [],
   "source": [
    "#Checking the property of these 4 clusters on basis of Behaviour\n",
    "Df.groupby(Df['Cluster']).mean()"
   ]
  },
  {
   "cell_type": "code",
   "execution_count": null,
   "metadata": {},
   "outputs": [],
   "source": [
    "fig, ax = plt.subplots(figsize=(16,8))\n",
    "Df['Cluster'].value_counts().plot(kind='bar')"
   ]
  },
  {
   "cell_type": "markdown",
   "metadata": {},
   "source": [
    "### Key Take Away Points from the Cluster Analysis\n",
    "- **Cluster 0:** Represents those customer who book the rides for 1 to 3 times on average for long routes or intervals (by looking at their average hours booked probably for inter city travelling). These customers utilized promos as well and have spent atleast 5.62 Rm per hour. These also include those customer who only book the cars for one time and havent booked afterwards, though this depends entirely in the dataset timeline. These customer could be categorized as churners if they only booked their cars once. These customers are the highest in number within the dataset\n",
    "\n",
    "- **Cluster 1:** Represents those customers who book rides for more then 3 times on average but for much shorter intervals probably within city, though these customers pay more money per hour which would indicate they opt for bigger cars \n",
    "\n",
    "- **Cluster 2:** Represents the most loyal customers who have on average booked more than 21 rides , these customers on average spend 8to 10 rm per hour but they also rent the cars for long tours. These are also the ones who spend most promos, These customer are the third highest in number with more then 700. \n",
    "\n",
    "- **Cluster 3:** Represents the last Cluster and category of customers who are the least in number in the data, these customer are the ones with the highest per hour spending but the least amout of hours. This category might include those people that book the cars for only a few minutes maybe even less then an hour time. These are probably office goers, or Students or lerisurers who only the service for commuting or taking care of quick errands"
   ]
  },
  {
   "cell_type": "markdown",
   "metadata": {},
   "source": [
    "### Task 2 How would the above analysis impact your pricing / promo strategy for \n",
    "- **a) new users**\n",
    "- **b) existing users**\n",
    "- **c) churned users**"
   ]
  },
  {
   "cell_type": "markdown",
   "metadata": {},
   "source": [
    "- **New Users** For New Users it is essential to come out with a promo where the first couple of hours are free similar to what Grab did in the begining to get people on board. But there should be a restriction for this promo for example it can only be used within city.\n",
    "- **Existing Users** For Existing users the company can come out with special promos or loyalty points where the more points you get the more rewards you earn, then there should be tiers of loyals reward points, like silver, gold. The gold member will get the best deals in promos. \n",
    "- **Churned Users** These users are the ones that use the service once and then dont come back, that does not mean that they have deleted the app, notifying them either by email or message for a special promo, but this too should have a limitation, maybe based on the duration of the ride. for example the promo could only be used for a 2 hour ride "
   ]
  },
  {
   "cell_type": "code",
   "execution_count": null,
   "metadata": {},
   "outputs": [],
   "source": [
    "from sklearn.manifold import TSNE"
   ]
  },
  {
   "cell_type": "code",
   "execution_count": null,
   "metadata": {},
   "outputs": [],
   "source": [
    "#RS = 123\n",
    "#fashion_tsne = TSNE(random_state=RS).fit_transform(X)"
   ]
  },
  {
   "cell_type": "code",
   "execution_count": null,
   "metadata": {},
   "outputs": [],
   "source": [
    "#import matplotlib.patheffects as PathEffects"
   ]
  },
  {
   "cell_type": "code",
   "execution_count": null,
   "metadata": {},
   "outputs": [],
   "source": [
    "#fashion_scatter(fashion_tsne,Df['Cluster'])"
   ]
  },
  {
   "cell_type": "code",
   "execution_count": null,
   "metadata": {},
   "outputs": [],
   "source": []
  }
 ],
 "metadata": {
  "kernelspec": {
   "display_name": "Python 3",
   "language": "python",
   "name": "python3"
  },
  "language_info": {
   "codemirror_mode": {
    "name": "ipython",
    "version": 3
   },
   "file_extension": ".py",
   "mimetype": "text/x-python",
   "name": "python",
   "nbconvert_exporter": "python",
   "pygments_lexer": "ipython3",
   "version": "3.7.3"
  }
 },
 "nbformat": 4,
 "nbformat_minor": 2
}
