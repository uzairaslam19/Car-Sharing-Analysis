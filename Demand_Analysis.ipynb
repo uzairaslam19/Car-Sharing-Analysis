{
 "cells": [
  {
   "cell_type": "markdown",
   "metadata": {},
   "source": [
    "## Demand Analysis\n",
    "<table><tr><td><img src=\"Images/dem.jpg\"></td></tr></table>\n",
    " \n"
   ]
  },
  {
   "cell_type": "markdown",
   "metadata": {},
   "source": [
    "#### Installing Plotly and Cufflinks for Interactive Plots"
   ]
  },
  {
   "cell_type": "code",
   "execution_count": null,
   "metadata": {},
   "outputs": [],
   "source": [
    "#!pip install plotly v==3.0.1"
   ]
  },
  {
   "cell_type": "code",
   "execution_count": null,
   "metadata": {},
   "outputs": [],
   "source": [
    "#!pip install chart-studio"
   ]
  },
  {
   "cell_type": "code",
   "execution_count": null,
   "metadata": {},
   "outputs": [],
   "source": [
    "#!pip install cufflinks"
   ]
  },
  {
   "cell_type": "markdown",
   "metadata": {},
   "source": [
    "### Importing the Neccessary Packages "
   ]
  },
  {
   "cell_type": "code",
   "execution_count": null,
   "metadata": {},
   "outputs": [],
   "source": [
    "#%matplotlib notebook\n",
    "import pandas as pd\n",
    "import numpy as np\n",
    "import math\n",
    "import seaborn as sns\n",
    "import matplotlib.pyplot as plt\n",
    "from chart_studio.plotly import plot, iplot\n",
    "import cufflinks as cf\n",
    "from IPython.display import display\n",
    "import plotly.offline\n",
    "cf.go_offline()\n",
    "#cf.set_config_file(offline=False, world_readable=True)\n"
   ]
  },
  {
   "cell_type": "markdown",
   "metadata": {},
   "source": [
    "### Loading Data and Pre Processing "
   ]
  },
  {
   "cell_type": "code",
   "execution_count": null,
   "metadata": {},
   "outputs": [],
   "source": [
    "#Reading the Data into pandas DataFrame\n",
    "df=pd.read_csv('Demand_Analysis.csv')"
   ]
  },
  {
   "cell_type": "code",
   "execution_count": null,
   "metadata": {},
   "outputs": [],
   "source": [
    "df.head()"
   ]
  },
  {
   "cell_type": "code",
   "execution_count": null,
   "metadata": {},
   "outputs": [],
   "source": [
    "#Renaming the Column \"Hour of Week\" to have no spaces\n",
    "df.rename(columns={\"Hour of Week\": \"Hour_of_Week\"},inplace=True)"
   ]
  },
  {
   "cell_type": "markdown",
   "metadata": {},
   "source": [
    "Since the Data has Hours of Week, i Need to Extract the Week Day based on 24 hours Each, So it will be easier to perform Deman Analysis based on Daily and Hourly observations So for Pre Processing i need to\n",
    "- **Create WeekDay Column**\n",
    "- **Extract Hours of Day From Hours of Week**\n",
    "- **GroupBy both WeekDay and Hour of Day to get patterns**\n",
    "- **Check Demand in both Percentage and Absolute Values**"
   ]
  },
  {
   "cell_type": "code",
   "execution_count": null,
   "metadata": {},
   "outputs": [],
   "source": [
    "#Extracting WeekDay from hours of Week\n",
    "df['Week_Day']=df['Hour_of_Week'].apply(lambda x : math.trunc(x/24))"
   ]
  },
  {
   "cell_type": "markdown",
   "metadata": {},
   "source": [
    "There was no information as to which week day the first 24 hours represent. So i am just assuming the week starts with Monday. My whole Analysis could be Either termed wrong or right based on this Assumption. If this information was provided the Analysis would have been more accurate"
   ]
  },
  {
   "cell_type": "code",
   "execution_count": null,
   "metadata": {},
   "outputs": [],
   "source": [
    "# Creating a Function to Name the WeekDays into their Respective Days. Starting From Monday\n",
    "def Weekday(row):\n",
    " if   row['Week_Day']==0  :\n",
    "      return 'Monday'\n",
    " elif row['Week_Day']==1 :\n",
    "      return 'Tuesday'\n",
    " elif row['Week_Day']==2 :\n",
    "      return 'Wednesday'\n",
    " elif row['Week_Day']==3 :\n",
    "      return 'Thursday'\n",
    " elif row['Week_Day']==4 :\n",
    "      return 'Friday'\n",
    " elif row['Week_Day']==5 :\n",
    "      return 'Saturday'\n",
    " elif row['Week_Day']==6 :\n",
    "      return 'Sunday'\n"
   ]
  },
  {
   "cell_type": "code",
   "execution_count": null,
   "metadata": {},
   "outputs": [],
   "source": [
    "#Applying the Function on the Week Day column that i created\n",
    "df['Week_Day'] = df.apply (lambda row: Weekday(row),axis=1)"
   ]
  },
  {
   "cell_type": "markdown",
   "metadata": {},
   "source": [
    "**I'm going to convert the hours of Week Column to Hours of day so i can Group the data together and see the pattern based on each hour of each day. Im doing this by taking modulo of each value in the column with 24**"
   ]
  },
  {
   "cell_type": "code",
   "execution_count": null,
   "metadata": {},
   "outputs": [],
   "source": [
    "#Convert Hours into 24 hours for each day\n",
    "df['Hour_of_Week']=df['Hour_of_Week'].apply(lambda x: x%24)"
   ]
  },
  {
   "cell_type": "code",
   "execution_count": null,
   "metadata": {},
   "outputs": [],
   "source": [
    "#Renaming the Column Hour of Week to Hour of Day\n",
    "df.rename(columns={\"Hour_of_Week\": \"Hours_of_Day\"},inplace=True)"
   ]
  },
  {
   "cell_type": "code",
   "execution_count": null,
   "metadata": {},
   "outputs": [],
   "source": [
    "df.head(1)"
   ]
  },
  {
   "cell_type": "code",
   "execution_count": null,
   "metadata": {},
   "outputs": [],
   "source": [
    "df.tail(3)"
   ]
  },
  {
   "cell_type": "markdown",
   "metadata": {},
   "source": [
    "Once the Data was Clean i Loaded it to Tableau to Visualise it further, i have attached some of the visuals to this Notebook and the Tableau File is provided in the folder"
   ]
  },
  {
   "cell_type": "code",
   "execution_count": null,
   "metadata": {},
   "outputs": [],
   "source": [
    "# Save as CSV to load into Tableau\n",
    "df.to_csv('Result.csv') "
   ]
  },
  {
   "cell_type": "markdown",
   "metadata": {},
   "source": [
    "## Demand Analysis"
   ]
  },
  {
   "cell_type": "markdown",
   "metadata": {},
   "source": [
    "First of all i think visualizing the data by grouping it by Hours of Day and Week Day will show us a clear pattern of how the demand increases or decreases each week on hourly basis.\n",
    "- **Creating the absolute value Demand Analysis Table**"
   ]
  },
  {
   "cell_type": "markdown",
   "metadata": {},
   "source": [
    "First i will create a pivot table for my data using the Week Days and Hours of Day Attributes and Sum up the other columsn with regards to these"
   ]
  },
  {
   "cell_type": "code",
   "execution_count": null,
   "metadata": {},
   "outputs": [],
   "source": [
    "#Using Pandas Crosstab Function to create a pivot tsble\n",
    "dw=pd.crosstab([df.Hours_of_Day],[df.Week_Day], values=df.Reservations,aggfunc=np.sum)"
   ]
  },
  {
   "cell_type": "code",
   "execution_count": null,
   "metadata": {},
   "outputs": [],
   "source": [
    "# Lets See how the head of the Pivot Table looks like\n",
    "dw.head(3)"
   ]
  },
  {
   "cell_type": "markdown",
   "metadata": {},
   "source": [
    "For more clarity i will create a heatmap of the Pivot Table to see how the values are Distributed across the weekdays and hours\n",
    "- **Visualizing the PivotTable for Absolute Demand values using Seaborn Heatmap**"
   ]
  },
  {
   "cell_type": "code",
   "execution_count": null,
   "metadata": {},
   "outputs": [],
   "source": [
    "# Plotting Heatmap for the Pivot Table\n",
    "sns.set(font_scale=1.8)\n",
    "fig, ax = plt.subplots(figsize=(25,15))\n",
    "title= 'Number of Reservations Throughout The Week (Absolute Values)'\n",
    "plt.title(title,fontsize=23)\n",
    "sns.heatmap(pd.crosstab([df.Hours_of_Day],[df.Week_Day], values=df.Reservations,aggfunc=sum),\n",
    "            cmap='BuPu', annot=True, cbar=False,fmt='g')\n"
   ]
  },
  {
   "cell_type": "markdown",
   "metadata": {},
   "source": [
    "Although this is more clear, it is obviously hard to see any pattern from just these numbers, I will plot a spaghetti plot for each of the WeekDays and the Reservations throughout the week to see a proper pattern. \n",
    "- **Spaghetti Plot for Absolute Reservations Throughout the Week**"
   ]
  },
  {
   "cell_type": "code",
   "execution_count": null,
   "metadata": {},
   "outputs": [],
   "source": [
    "#Grouping the Data by Hours of Day and Week Day and Summing the other values based on Hours and weekDays\n",
    "df.groupby([df['Hours_of_Day'], 'Week_Day'])['Reservations'].sum().unstack().plot(title='Reservations Throughout the Week on Hourly Basis',\n",
    "                                                        kind='line',colormap='RdYlGn',figsize=(20,8),grid=True, fontsize=10,\n",
    "                                                        xticks=(0,1,2,3,4,5,6,7,8,9,10,11,12,13,14,15,16,17,18,19,20,21,22,23),linestyle='-', marker='o')\n"
   ]
  },
  {
   "cell_type": "markdown",
   "metadata": {},
   "source": [
    " The Above Plot is streched and plotted over 24 hours and for each day of the Week and shows a much clear pattern for demand throughout the week across 24 hours of each week day. Here are a couple of things we can observe from the plot\n",
    "- **At Midnight**, There is still Demand at this hour of each day however, we see that during weekdays, there are more bookings as compared to the weekends.\n",
    "- **After Midnight** , the Demand or number of Reservations start to Fall throughout the weekdays\n",
    "- **6AM - 9AM**, The Demand seems to increase, showing that the reservations start early morning each day during this period\n",
    "- **11AM - 12PM**, This period shows the Peak Demand where the most number of Reservations are made throughout the WeekDays. With the highest number of Reservations made at 12 o clock on a friday. This sudden peak on Friday at this time may indicate the People who are commuting for Friday Prayers. For these spikes Socar can introduce Either promos or can even raise the price\n",
    "- **1PM - 11PM(Night)** There are stagnant high and lows during these hours, as the demand doesnt spike or falls below a certain level, indicating most of the reservations are during these hours.\n",
    "- **Wednesday( Slow Day)** It can be seen that Wednesday is the slowest day for Socar Bookings, it is therefore essential to attract more customers on a wednesday using special day specific promos. ( I will plot a total booking bar plot per week day to see which day has more bookings and which one has least to see a better picture\n",
    "\n",
    "To see more details i will next plot using Plotly for a more interactive plot that shows all values once you hover "
   ]
  },
  {
   "cell_type": "code",
   "execution_count": null,
   "metadata": {},
   "outputs": [],
   "source": [
    "dw.iplot()"
   ]
  },
  {
   "cell_type": "markdown",
   "metadata": {},
   "source": [
    "- **Visualizing the PivotTable for Percentage Demand values using Seaborn Heatmap**"
   ]
  },
  {
   "cell_type": "markdown",
   "metadata": {},
   "source": [
    "I will Further Analyse the Demand and reservations using the percentages of each day based on hours. Similar to Absolute values i will first create a pivot table and Visualize "
   ]
  },
  {
   "cell_type": "code",
   "execution_count": null,
   "metadata": {},
   "outputs": [],
   "source": [
    "dp=pd.crosstab(df.loc[:,'Hours_of_Day'],df.loc[:, 'Week_Day'], values=df.Reservations,aggfunc=np.sum,normalize='columns').applymap(lambda x: \"{0:.0f}%\".format(100*x)) "
   ]
  },
  {
   "cell_type": "code",
   "execution_count": null,
   "metadata": {},
   "outputs": [],
   "source": [
    "dp.head()"
   ]
  },
  {
   "cell_type": "code",
   "execution_count": null,
   "metadata": {},
   "outputs": [],
   "source": [
    "sns.set(font_scale=1.8)\n",
    "fig, ax = plt.subplots(figsize=(25,15))\n",
    "title= 'Demand Analysis Percentages'\n",
    "plt.title(title,fontsize=23)\n",
    "sns.heatmap(pd.crosstab([df.Hours_of_Day],[df.Week_Day], values=df.Reservations,aggfunc=sum,normalize='columns'),\n",
    "            cmap='PuBu', annot=True, cbar=False,fmt='.0%')"
   ]
  },
  {
   "cell_type": "code",
   "execution_count": null,
   "metadata": {},
   "outputs": [],
   "source": [
    "dp.iplot(kind='line')"
   ]
  },
  {
   "cell_type": "markdown",
   "metadata": {},
   "source": [
    "- **BarPlot For Total Reservations Grouped By WeekDay(Tableau)**"
   ]
  },
  {
   "cell_type": "markdown",
   "metadata": {},
   "source": [
    "The Bar plot for total number of reservations based on week days in plotted below and we can see some important information from the figure below and the one above \n",
    "- **Wednesday is the Slowest**\n",
    "I plot the total number of Reservations for each day using Tableau and we can clearly see that Wednesday has the least number of Reservations, indicating the the mid of the week is where customers dont use much of ours services, Introducing promos for this day can raise the number of reservations. \n",
    "\n",
    "- **Friday is Highest**\n",
    "Furthermore, we can also see that most of the reservations and the highest are made during Fridays, this however can be due to the spike from 10AM Till 12PM which would indicate those people who are commuting to maybe Friday prayers using Socar services. Similarly there is a rise in Reservations during 5 o clock, 7 o clock during fridays, which may indicate those people who are leisurers and are travelling for the weekend to someplace. However, the reservations at 5 may also indicate those people who are commuting back to their homes.\n",
    "- **Thurday Shows Spikes During Evening hours**\n",
    "For Thursday being a weekday, it is quite surprising to see reservation spike during the hours of 2-4 and 6-7 and 10-11. For understanding this better more attributes are needed such as  which consumer group is booking at these hours. For now all i can think of is The first screening of new movies are on Thursdays, so people book for going to cinemas with friends and family. This however can explain the reservations during 6-7 and 10-11, but it still doesnt explain the spike during 2-4"
   ]
  },
  {
   "cell_type": "markdown",
   "metadata": {},
   "source": [
    "<img src=\"Images/TotalReservation.png\">"
   ]
  },
  {
   "cell_type": "markdown",
   "metadata": {},
   "source": [
    "\n",
    "### Task 2:-  Document Approval Process Enhancement and conversion\n"
   ]
  },
  {
   "cell_type": "markdown",
   "metadata": {},
   "source": [
    "To see the document approval patterns its first important for us to see when the majority of the signups to the app occur during the entire week. We plot this using Groupby Weekday on Tableau for a detailed Visual."
   ]
  },
  {
   "cell_type": "markdown",
   "metadata": {},
   "source": [
    "- **Visual for Average Signups per Weekday** We can see that majority of the signups occur during the Days Saturday, Sunday and Friday and they tend to decline throughout the week afterwards from monday onwards. This would also suggest that majority of the people upload their documents on Weekend and high sign up days. We see that the highest signups occur on Saturday and Followed by Sunday. Since Socar Document Approval can take upto 24 hours, It is therefore, essential to enhance this process inorder to increase number of bookings at this stage of the business"
   ]
  },
  {
   "cell_type": "markdown",
   "metadata": {},
   "source": [
    "<img src=\"Images/Signups.png\">"
   ]
  },
  {
   "cell_type": "markdown",
   "metadata": {},
   "source": [
    "Now that we know which days most signups occur, Lets check the document approval pattern throughout the week \n",
    "- **Dotted/Marked Line plot for Total Number of Documents Approved Per Week Day( Plotted using Tableau**"
   ]
  },
  {
   "cell_type": "markdown",
   "metadata": {},
   "source": [
    "<img src=\"Images/Approved.png\">"
   ]
  },
  {
   "cell_type": "markdown",
   "metadata": {},
   "source": [
    "We Can see that the Dcoument Approval Pattern is directly proportional to how many Signups were made each day. Lets us plot the Document Approved observations on Hourly basis of each week day\n",
    "- **Document Approved on Hourly basis for each week day Spaghetti Plot**"
   ]
  },
  {
   "cell_type": "code",
   "execution_count": null,
   "metadata": {},
   "outputs": [],
   "source": [
    "#Plotting Document Approved throughout Each Weekday based on hours of day\n",
    "df.groupby([df['Hours_of_Day'], 'Week_Day'])['Doc_approved'].sum().unstack().plot(title='Documents Approved Throughout the Week on Hourly Basis',\n",
    "                                                        kind='line',colormap='RdYlGn',figsize=(20,8),grid=True, fontsize=10,\n",
    "                                                        xticks=(0,1,2,3,4,5,6,7,8,9,10,11,12,13,14,15,16,17,18,19,20,21,22,23),linestyle='-', marker='o')"
   ]
  },
  {
   "cell_type": "markdown",
   "metadata": {},
   "source": [
    "We can clearly see that majority of the Documents are approved during the hours of 10 AM to 7PM But for a more detailed plot i will use Plotly to create an interactive plot"
   ]
  },
  {
   "cell_type": "code",
   "execution_count": null,
   "metadata": {},
   "outputs": [],
   "source": [
    "#Plotting using Plotly for a more interactive Plot\n",
    "ap=pd.crosstab([df.Hours_of_Day],[df.Week_Day], values=df.Doc_approved,aggfunc=np.sum)"
   ]
  },
  {
   "cell_type": "code",
   "execution_count": null,
   "metadata": {},
   "outputs": [],
   "source": [
    "#Plotly Plot \n",
    "ap.iplot()"
   ]
  },
  {
   "cell_type": "markdown",
   "metadata": {},
   "source": [
    "<img src=\"Images/plotlyapp.png\">"
   ]
  },
  {
   "cell_type": "markdown",
   "metadata": {},
   "source": [
    "The Above plot Clearly indicates that from 10 AM til 7PM the weekends are leading when it comes to maximum document approvals but that also maybe due to the fact that we have the highest signups during the weekend. It can be seen that there is a clear distinct path for the patterns of Weekdays and Weekend days. Where Weekend days such as Friday, Saturday and Sunday show a high spike during 10AM till 7PM. But to see a clear pattern of the spikes and the downfalls of Approved Documents we need to compare with Rejected Documents aswell \n",
    "\n",
    "- **Plotting Rejected Documents Per Hour for each WeekDay**"
   ]
  },
  {
   "cell_type": "code",
   "execution_count": null,
   "metadata": {},
   "outputs": [],
   "source": [
    "#Plotting Document Rejected throughout Each Weekday based on hours of day\n",
    "df.groupby([df['Hours_of_Day'], 'Week_Day'])['Doc_rejected'].sum().unstack().plot(title='Documents Rejected Throughout the Week on Hourly Basis',\n",
    "                                                        kind='line',colormap='RdYlGn',figsize=(20,8),grid=True, fontsize=10,\n",
    "                                                        xticks=(0,1,2,3,4,5,6,7,8,9,10,11,12,13,14,15,16,17,18,19,20,21,22,23),linestyle='-', marker='o')"
   ]
  },
  {
   "cell_type": "code",
   "execution_count": null,
   "metadata": {},
   "outputs": [],
   "source": [
    "#Plotting using Plotly for a more interactive Plot\n",
    "rj=pd.crosstab([df.Hours_of_Day],[df.Week_Day], values=df.Doc_rejected,aggfunc=np.sum)"
   ]
  },
  {
   "cell_type": "code",
   "execution_count": null,
   "metadata": {},
   "outputs": [],
   "source": [
    "rj.iplot()"
   ]
  },
  {
   "cell_type": "markdown",
   "metadata": {},
   "source": [
    "<img src=\"Images/Plotrej.png\">"
   ]
  },
  {
   "cell_type": "markdown",
   "metadata": {},
   "source": [
    "We see a sudden spike on sunday in documents rejected at 13 or 1 o clock in the afternoon this is exactly after the sudden spike in documents approved of the same day. This means that the fall off decent of the approved documents at 13 or 1 o clock was due to the large amount of documents being rejected. Documents can be rejected for any sort of reason. These can include\n",
    "- **The Picture of the Document was not clear or Shaky**\n",
    "- **The Document uploaded was not valid or Expired**\n",
    "- **Approval Algorithm not flexible and faulty**\n",
    "\n",
    "\n",
    "Regardless of the Reason, the document rejection has high chance of human error. Most of the times, the customers, are not as interested in uploading proper documentation, rather then getting started with the ride as fast as possible. A few Suggestions for improving the document approval process and conversion as follow:\n",
    "\n",
    "### Suggestions for Document Approval Process Enhancement\n",
    "- **Introduce a better guide or manual which include steps for properly uploading the document in a clear way**\n",
    "- **Introduce point based authentication, where the customer will get points for uploading document properly, These point can later be redeemed during first ride**\n",
    "- **Reason For Rejection should be provided to the customer in a clear way, and steps to get approval should also be mentioned either by email or by notification pop up** This atleast ensures the customer knows why the document was rejected and can follow some simple steps to rectify the error and reupload. In most cases if no proper reason is provided, customer tend to churn and loose interest\n",
    "By making sure there is some kind of incentive for uploading the correct document carefully and in a clear way, the chance of human error can be reduced on the customers end, instead of focusing just on hurrying through the process and getting into a car, the customer will also focus on getting the points for proper authentication \n",
    "\n",
    "- **On developer end check and test the approval procedure to see if it randomly rejects correctly uploaded documents**, in some scenerios such as Grab Wallet, even though you upload proper documents in a proper manner, the system sometimes does not authenticate and no proper reasoning is given for rejection, this frustrates the customer and results in customer loosing interest in the product\n",
    "\n",
    "- **If authentication process includes document evaluation being done by employees, then it is essential to make sure they are trained in a proper manner and taught to be unbiased in all regards** If an employee is biased towards certain group of people, or is in a mood that might effect his/her sentiment towards the cutomers, it may effect his judgment. This may result in loss of potential customers or wastage of time for gaining a potential sale or reservation in time "
   ]
  },
  {
   "cell_type": "code",
   "execution_count": null,
   "metadata": {},
   "outputs": [],
   "source": []
  }
 ],
 "metadata": {
  "kernelspec": {
   "display_name": "Python 3",
   "language": "python",
   "name": "python3"
  },
  "language_info": {
   "codemirror_mode": {
    "name": "ipython",
    "version": 3
   },
   "file_extension": ".py",
   "mimetype": "text/x-python",
   "name": "python",
   "nbconvert_exporter": "python",
   "pygments_lexer": "ipython3",
   "version": "3.7.3"
  }
 },
 "nbformat": 4,
 "nbformat_minor": 2
}
